{
 "cells": [
  {
   "cell_type": "code",
   "execution_count": 14,
   "metadata": {
    "collapsed": false
   },
   "outputs": [],
   "source": [
    "# reorganizing \n",
    "# start with the stuff you need to do once\n",
    "\n",
    "from Bio.PDB import PDBParser, CaPPBuilder\n",
    "from Bio import SeqIO\n",
    "from Bio.Seq import Seq\n",
    "from glob import glob \n",
    "from subprocess import check_output\n",
    "import screed\n",
    "from re import sub\n",
    "\n",
    "p = PDBParser()\n",
    "ppb = CaPPBuilder()\n",
    "\n",
    "ecoli_codon = { 'G':'GGC', 'A':'GCG', 'V':'GTG', 'F':'TTT', 'E':'GAA', 'D':'GAT', 'N':'AAC', \n",
    "                'H':'CAT', 'P':'CCG', 'Q':'CAG', 'W':'TGG', 'Y':'TAT', 'I':'ATT', 'M':'ATG', \n",
    "                'C':'TGC', 'K':'AAA', 'L':'CTG', 'R':'CGT', 'T':'ACC', 'S':'AGC' }\n",
    "\n",
    "def reverse_complement( oligo ):\n",
    "    complement = { 'a': 't', 't': 'a', 'c': 'g', 'g': 'c', 'A': 'T', 'T': 'A', 'C': 'G', 'G': 'C' } \n",
    "    reverse = [ complement[ i ] for i in oligo ][::-1]\n",
    "    return ''.join( reverse )\n",
    "\n",
    "bb_nucleotide = '1oaa.fn'\n",
    "bb_pdb = '1oaa.pdb'\n",
    "outpath = 'out/'\n",
    "\n",
    "dna = SeqIO.read( bb_nucleotide, 'fasta' )\n",
    "wt_structure = p.get_structure( 'wt_structure', bb_pdb )\n",
    "wt_seq = [ pp.get_sequence() for pp in ppb.build_peptides( wt_structure ) ][ 0 ]\n",
    "\n",
    "def make( design_structure, bb_nucleotide ):\n",
    "    \n",
    "    # design metadata \n",
    "    design = p.get_structure( 'design', design_structure )\n",
    "    design_seq = [ pp.get_sequence() for pp in ppb.build_peptides( design ) ][ 0 ]\n",
    "    design_fa = outpath + design_structure.replace( 'pdb', 'fa' )\n",
    "    with open( design_fa, 'w' ) as handle:\n",
    "        handle.write( '>{}\\n{}'.format( design_structure, design_seq ) )\n",
    "\n",
    "    # align design and scaffold \n",
    "    cmd = [ 'tblastn -query {} -subject {} -outfmt \"6 sseq qseq sstart send\"'.format( design_fa, bb_nucleotide ) ]\n",
    "    blast_out = check_output( cmd, shell=True )\n",
    "    best_hit = blast_out.split( '\\n' )[ 0 ]\n",
    "    sseq, qseq, sstart, send = best_hit.split( '\\t' )\n",
    "\n",
    "    # print a diff from this to use as the mutant handle \n",
    "    diff = '+'.join([ '{}{}{}'.format( native, position, designed ) for position, ( native, designed ) in enumerate( zip( sseq, qseq ) ) if native != designed ])\n",
    "\n",
    "    # scaffold metadata \n",
    "    wt = [ record.sequence[ int( sstart ) - 1 : int( send ) ] for record in screed.open( bb_nucleotide ) ][0]\n",
    "    codons = [ wt[i:i+3] for i in range( 0, len( wt ), 3 ) ]\n",
    "\n",
    "    # mutate the scaffold sequence \n",
    "    for position, ( native, designed ) in enumerate( zip( wt_seq, design_seq ) ):\n",
    "        if native != designed:\n",
    "            if Seq( codons[ position ] ).translate() == native: # sanity check\n",
    "                codons[ position ] = ecoli_codon[ designed ]\n",
    "\n",
    "    oligos = sub( r'([atcg]{15})[atcg]{0,}([atcg]{15})', r'\\1,\\2', ''.join( codons ) ).split( ',' )[1:-1]\n",
    "    with open( 'transcriptic_csv.csv', 'a' ) as transcriptic_csv:\n",
    "        for oligo in oligos:\n",
    "            transcriptic_csv.write( '{0},{1},{1},25nm,standard\\n'.format( diff, reverse_complement( oligo ) ) )\n",
    "\n",
    "    return ( diff, ''.join( codons ) )\n",
    "            \n",
    "# then loop through the mutants \n",
    "with open( 'transcriptic_csv.csv', 'w' ) as transcriptic_csv:\n",
    "    transcriptic_csv.write( 'mutant_label,oligo_label,sequence,scale,purification\\n' )\n",
    "\n",
    "mutants = []\n",
    "for mutant in glob( 'des*pdb' ):\n",
    "    mutants += [ make( mutant, bb_nucleotide ) ]"
   ]
  },
  {
   "cell_type": "code",
   "execution_count": null,
   "metadata": {
    "collapsed": false
   },
   "outputs": [],
   "source": [
    "# run on transcriptic "
   ]
  },
  {
   "cell_type": "code",
   "execution_count": 9,
   "metadata": {
    "collapsed": false
   },
   "outputs": [],
   "source": [
    "# now you've got sequencing results \n",
    "#import pandas\n",
    "#pandas.DataFrame( mutants )\n",
    "\n",
    "for mutant in mutants:\n",
    "    mutant_nuc = outpath + mutant[0].lower() + '.fn'\n",
    "    with open( mutant_nuc, 'w' ) as fn:\n",
    "        fn.write( '>{}\\n{}'.format( mutant[0], mutant[1] ) )\n",
    "\n",
    "    #for i in [ 1, 2, 3 ]:\n",
    "        #aseq_exp = 'reads/fwd/' + mutant[ 0 ] + '_{}'.format( i ) + '*.seq'\n",
    "        #bseq_exp = 'reads/rev/' + mutant[ 0 ] + '_{}'.format( i ) + '*.seq'\n",
    "        #aseq = glob( aseq_exp )[0]\n",
    "        #aseq = glob( bseq_exp )[0]\n",
    "\n",
    "        #cmd = [ 'merger', '-asequence', aseq, '-bsequence', bseq, '-outfile',  ]\n",
    "        #check_output( cmd )\n",
    "    \n",
    "        #blast = [ 'blastn', '-subject', mutant_nuc, '-query', '' ]"
   ]
  },
  {
   "cell_type": "code",
   "execution_count": null,
   "metadata": {
    "collapsed": true
   },
   "outputs": [],
   "source": []
  }
 ],
 "metadata": {
  "kernelspec": {
   "display_name": "Python 2",
   "language": "python",
   "name": "python2"
  },
  "language_info": {
   "codemirror_mode": {
    "name": "ipython",
    "version": 2
   },
   "file_extension": ".py",
   "mimetype": "text/x-python",
   "name": "python",
   "nbconvert_exporter": "python",
   "pygments_lexer": "ipython2",
   "version": "2.7.10"
  }
 },
 "nbformat": 4,
 "nbformat_minor": 0
}
