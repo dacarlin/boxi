{
 "cells": [
  {
   "cell_type": "code",
   "execution_count": 2,
   "metadata": {
    "collapsed": false
   },
   "outputs": [
    {
     "name": "stdout",
     "output_type": "stream",
     "text": [
      "*des\n"
     ]
    }
   ],
   "source": [
    "%%bash \n",
    "\n",
    "for i in *des; do \n",
    "    echo $i\n",
    "done"
   ]
  },
  {
   "cell_type": "code",
   "execution_count": 3,
   "metadata": {
    "collapsed": false
   },
   "outputs": [
    {
     "name": "stdout",
     "output_type": "stream",
     "text": [
      "1oaa.fasta                             clones.csv\r\n",
      "1oaa.pep                               diff_and_decide.ipynb\r\n",
      "1oaa_data.csv                          \u001b[34mfwd_reads\u001b[m\u001b[m\r\n",
      "1oaa_dyads_transformation_20151202.txt kunkelWellCSV_r18cdhv8exmh3.csv\r\n",
      "Eurofins_Sequencing_Platesv5_1-3.xls   \u001b[34mrev_reads\u001b[m\u001b[m\r\n",
      "Untitled.ipynb\r\n"
     ]
    }
   ],
   "source": [
    "!ls"
   ]
  },
  {
   "cell_type": "code",
   "execution_count": null,
   "metadata": {
    "collapsed": true
   },
   "outputs": [],
   "source": []
  }
 ],
 "metadata": {
  "kernelspec": {
   "display_name": "Python 2",
   "language": "python",
   "name": "python2"
  },
  "language_info": {
   "codemirror_mode": {
    "name": "ipython",
    "version": 2
   },
   "file_extension": ".py",
   "mimetype": "text/x-python",
   "name": "python",
   "nbconvert_exporter": "python",
   "pygments_lexer": "ipython2",
   "version": "2.7.10"
  }
 },
 "nbformat": 4,
 "nbformat_minor": 0
}
