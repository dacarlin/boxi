{
 "cells": [
  {
   "cell_type": "code",
   "execution_count": 8,
   "metadata": {
    "collapsed": false
   },
   "outputs": [],
   "source": [
    "# reorganizing \n",
    "# start with the stuff you need to do once\n",
    "\n",
    "from Bio.PDB import PDBParser, CaPPBuilder\n",
    "from Bio import SeqIO\n",
    "from Bio.Seq import Seq\n",
    "from glob import glob \n",
    "from subprocess import check_output\n",
    "import screed\n",
    "from re import sub\n",
    "\n",
    "p = PDBParser()\n",
    "ppb = CaPPBuilder()\n",
    "\n",
    "ecoli_codon = { 'G':'GGC', 'A':'GCG', 'V':'GTG', 'F':'TTT', 'E':'GAA', 'D':'GAT', 'N':'AAC', \n",
    "                'H':'CAT', 'P':'CCG', 'Q':'CAG', 'W':'TGG', 'Y':'TAT', 'I':'ATT', 'M':'ATG', \n",
    "                'C':'TGC', 'K':'AAA', 'L':'CTG', 'R':'CGT', 'T':'ACC', 'S':'AGC' }\n",
    "\n",
    "bb_nucleotide = '1oaa.fasta'\n",
    "bb_pdb = '1oaa.pdb'\n",
    "outpath = 'out/'\n",
    "\n",
    "dna = SeqIO.read( bb_nucleotide, 'fasta' )\n",
    "wt_structure = p.get_structure( 'wt_structure', bb_pdb )\n",
    "wt_seq = [ pp.get_sequence() for pp in ppb.build_peptides( wt_structure ) ][ 0 ]\n",
    "\n",
    "def make( design_structure, bb_nucleotide ):\n",
    "    \n",
    "    # design metadata \n",
    "    design = p.get_structure( 'design', design_structure )\n",
    "    design_seq = [ pp.get_sequence() for pp in ppb.build_peptides( design ) ][ 0 ]\n",
    "    design_fa = outpath + design_structure.replace( 'pdb', 'fa' )\n",
    "    with open( design_fa, 'w' ) as handle:\n",
    "        handle.write( '>{}\\n{}'.format( design_structure, design_seq ) )\n",
    "\n",
    "    # align design and scaffold \n",
    "    cmd = [ 'tblastn -query {} -subject {} -outfmt \"6 sseq qseq sstart send\"'.format( design_fa, bb_nucleotide ) ]\n",
    "    blast_out = check_output( cmd, shell=True )\n",
    "    best_hit = blast_out.split( '\\n' )[ 0 ]\n",
    "    sseq, qseq, sstart, send = best_hit.split( '\\t' )\n",
    "\n",
    "    # print a diff from this to use as the mutant handle \n",
    "    diff = '+'.join([ '{}{}{}'.format( native, position, designed ) for position, ( native, designed ) in enumerate( zip( sseq, qseq ) ) if native != designed ])\n",
    "\n",
    "    # scaffold metadata \n",
    "    wt = [ record.sequence[ int( sstart ) - 1 : int( send ) ] for record in screed.open( bb_nucleotide ) ][0]\n",
    "    codons = [ wt[i:i+3] for i in range( 0, len( wt ), 3 ) ]\n",
    "\n",
    "    # mutate the scaffold sequence \n",
    "    for position, ( native, designed ) in enumerate( zip( wt_seq, design_seq ) ):\n",
    "        if native != designed:\n",
    "            if Seq( codons[ position ] ).translate() == native: # sanity check\n",
    "                codons[ position ] = ecoli_codon[ designed ]\n",
    "\n",
    "    oligos = sub( r'([atcg]{15})[atcg]{0,}([atcg]{15})', r'\\1,\\2', ''.join( codons ) ).split( ',' )[1:-1] \n",
    "    with open( 'transcriptic_csv.csv', 'a' ) as transcriptic_csv:\n",
    "        for oligo in oligos:\n",
    "            transcriptic_csv.write( '{0},{1},{1},25nm,standard\\n'.format( diff, oligo ) )\n",
    "\n",
    "    return ( diff, ''.join( codons ) )\n",
    "            \n",
    "# then loop through the mutants \n",
    "with open( 'transcriptic_csv.csv', 'w' ) as transcriptic_csv:\n",
    "    transcriptic_csv.write( 'mutant_label,oligo_label,sequence,scale,purification\\n' )\n",
    "\n",
    "mutants = []\n",
    "for mutant in glob( 'des*pdb' ):\n",
    "    mutants += [ make( mutant, bb_nucleotide ) ]\n",
    "    \n",
    "import pandas\n",
    "df = pandas.DataFrame( mutants, columns=['diff','nucleotide_sequence'] )\n",
    "df.to_pickle( 'designs_nucleotide.p' )\n",
    "\n",
    "# wait for sequencing results "
   ]
  },
  {
   "cell_type": "code",
   "execution_count": 9,
   "metadata": {
    "collapsed": false
   },
   "outputs": [
    {
     "name": "stdout",
     "output_type": "stream",
     "text": [
      "1oaa.fasta                                   des15.pdb\r\n",
      "1oaa.pdb                                     des16.pdb\r\n",
      "1oaa.pep                                     des17.pdb\r\n",
      "1oaa_data.csv                                des18.pdb\r\n",
      "1oaa_dyads_transfor_numbered.txt             des19.pdb\r\n",
      "1oaa_dyads_transformation_20151202.txt       des2.pdb\r\n",
      "Eurofins_Sequencing_Platesv5_1-3.xls         des3.pdb\r\n",
      "NAX.params                                   des4.pdb\r\n",
      "SBO.conf.pdb                                 des5.pdb\r\n",
      "SBO.params                                   des6.pdb\r\n",
      "UM_120_H169W204_1_1oaa_SBO_HW_HW_1_0007.pdb  des7.pdb\r\n",
      "UM_120_H169W204_1_1oaa_SBO_HW_HW_1_0008.pdb  des8.pdb\r\n",
      "UM_120_H169W204_1_1oaa_SBO_HW_HW_1_0009.pdb  des9.pdb\r\n",
      "UM_297_W208Y173_1_1oaa_SBO_HW_YTS_1_0003.pdb designs_nucleotide.p\r\n",
      "Untitled.ipynb                               diff_and_decide.ipynb\r\n",
      "clones.csv                                   \u001b[34mfwd_reads\u001b[m\u001b[m\r\n",
      "des1.pdb                                     kunkelWellCSV_r18cdhv8exmh3.csv\r\n",
      "des10.pdb                                    make_oligos_from_pdb.ipynb\r\n",
      "des11.pdb                                    \u001b[34mout\u001b[m\u001b[m\r\n",
      "des12.pdb                                    \u001b[34mrev_reads\u001b[m\u001b[m\r\n",
      "des13.pdb                                    transcriptic_csv.csv\r\n",
      "des14.pdb\r\n"
     ]
    }
   ],
   "source": [
    "!ls"
   ]
  },
  {
   "cell_type": "code",
   "execution_count": null,
   "metadata": {
    "collapsed": true
   },
   "outputs": [],
   "source": []
  }
 ],
 "metadata": {
  "kernelspec": {
   "display_name": "Python 2",
   "language": "python",
   "name": "python2"
  },
  "language_info": {
   "codemirror_mode": {
    "name": "ipython",
    "version": 2
   },
   "file_extension": ".py",
   "mimetype": "text/x-python",
   "name": "python",
   "nbconvert_exporter": "python",
   "pygments_lexer": "ipython2",
   "version": "2.7.10"
  }
 },
 "nbformat": 4,
 "nbformat_minor": 0
}
