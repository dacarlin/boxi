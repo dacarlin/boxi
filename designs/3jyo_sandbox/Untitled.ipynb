{
 "cells": [
  {
   "cell_type": "code",
   "execution_count": 56,
   "metadata": {
    "collapsed": false
   },
   "outputs": [],
   "source": [
    "# 3jyo designs ordering notebook\n",
    "\n",
    "from Bio.PDB import PDBParser, PPBuilder\n",
    "from glob import glob \n",
    "p, ppb = PDBParser(), PPBuilder()\n",
    "\n",
    "def pdb_to_fasta( pdb ):\n",
    "    structure = p.get_structure( pdb, pdb )\n",
    "    for pp in ppb.build_peptides(structure): \n",
    "        return pp.get_sequence()\n",
    "\n",
    "with open( 'queries.fa', 'w' ) as fn:    \n",
    "    for i in glob( 'des*pdb' ):\n",
    "        params = { }\n",
    "        params.update( { 'filename': i } )\n",
    "        params.update( { 'sequence': pdb_to_fasta( i ) } )\n",
    "        fn.write( '>{}\\n'.format( params['filename'] ) )\n",
    "        fn.write( '{}\\n'.format( params['sequence'] ) )"
   ]
  },
  {
   "cell_type": "code",
   "execution_count": 57,
   "metadata": {
    "collapsed": false,
    "scrolled": false
   },
   "outputs": [],
   "source": [
    "!tblastn -subject 3jyo.fasta -query queries.fa -outfmt \"6 sstart send sseq qseq\" > blast_out.tsv"
   ]
  },
  {
   "cell_type": "code",
   "execution_count": 58,
   "metadata": {
    "collapsed": false
   },
   "outputs": [],
   "source": [
    "import screed\n",
    "from re import sub \n",
    "\n",
    "ecoli = { 'G':'GGC', 'A':'GCG', 'V':'GTG', 'F':'TTT', 'E':'GAA', 'D':'GAT', 'N':'AAC', \n",
    "          'H':'CAT', 'P':'CCG', 'Q':'CAG', 'W':'TGG', 'Y':'TAT', 'I':'ATT', 'M':'ATG', \n",
    "          'C':'TGC', 'K':'AAA', 'L':'CTG', 'R':'CGT', 'T':'ACC', 'S':'AGC' }\n",
    "\n",
    "def reverse_complement( seq ):\n",
    "    complement = [ dict( zip( 'actgACTG', 'tgacTGAC' ) )[ i ] for i in seq ]\n",
    "    return ''.join( complement )[::-1]\n",
    "\n",
    "with open( 'blast_out.tsv' ) as fn:\n",
    "    outs = fn.readlines()\n",
    "    \n",
    "mutants = [] \n",
    "for blast_out in outs:\n",
    "    #parse blast output \n",
    "    sstart, send, sseq, qseq = blast_out.split( '\\t' )\n",
    "    \n",
    "    # diff \n",
    "    zipped = enumerate( zip( sseq, qseq ) )\n",
    "    diff = [ ( native, pos, new ) for pos, ( native, new ) in zipped if native != new ]\n",
    "\n",
    "    # make mutations \n",
    "    wt = [r for r in screed.open( '3jyo.fasta' )][0]\n",
    "    t = wt.sequence[ int(sstart) - 1 : int(send) ]\n",
    "    codons = [ t[i:i+3] for i in range( 0, len(t), 3 ) ] \n",
    "    label = [ ]\n",
    "    params = { } \n",
    "    \n",
    "    for d in diff:\n",
    "        codons[ d[1] ] = ecoli[ d[2] ]\n",
    "        label.append( '{}{}{}'.format( d[0], d[1] + 1, d[2] ) )\n",
    "        \n",
    "    #params['diff'] = diff \n",
    "    params['sequence'] = ''.join( codons )\n",
    "    params['label'] = '+'.join( label ) \n",
    "    \n",
    "    cut_up = sub( r'([atcg]{15})[atcg]{0,}([atcg]{15})', r'\\1,\\2', params['sequence'] )\n",
    "    oligos =  [ reverse_complement( oligo ) for oligo in cut_up.split( ',' )[:-1] ]\n",
    "    params['oligos'] = oligos\n",
    "    \n",
    "    mutants.append( params ) "
   ]
  },
  {
   "cell_type": "code",
   "execution_count": 61,
   "metadata": {
    "collapsed": false
   },
   "outputs": [],
   "source": [
    "#transcript format CSV \n",
    "\n",
    "with open( '3jyo_order.csv', 'w' ) as ts_csv:\n",
    "    ts_csv.write( 'mutant_label,oligo_label,sequence,scale,purification\\n' )\n",
    "    for mutant in mutants:\n",
    "        for oligo in mutant['oligos']:\n",
    "            if len( oligo ) < 60:\n",
    "                ts_csv.write( '{0},{1},{1},25nm,standard\\n'.format( mutant['label'], oligo ) )\n",
    "            else:\n",
    "                halfway = len( oligo ) // 2 \n",
    "                oligo1, oligo2 = oligo[:halfway], oligo[halfway:]\n",
    "                if len( oligo1 ) < 60 and len( oligo2 ) < 60: \n",
    "                    ts_csv.write( '{0},{1},{1},25nm,standard\\n'.format( mutant['label'], oligo1 ) )\n",
    "                    ts_csv.write( '{0},{1},{1},25nm,standard\\n'.format( mutant['label'], oligo2 ) )\n",
    "                else:\n",
    "                    raise Exception( 'Split this oligo but it\\'s still too long' )"
   ]
  },
  {
   "cell_type": "code",
   "execution_count": 62,
   "metadata": {
    "collapsed": false,
    "scrolled": false
   },
   "outputs": [
    {
     "name": "stdout",
     "output_type": "stream",
     "text": [
      "mutant_label,oligo_label,sequence,scale,purification\r\n",
      "T2Y+N77G+Q241S,ttcatgcattgccggATAacg,ttcatgcattgccggATAacg,25nm,standard\r\n",
      "T2Y+N77G+Q241S,atcaataacaacggtGCCaactgcacccagctg,atcaataacaacggtGCCaactgcacccagctg,25nm,standard\r\n",
      "T2Y+N77G+Q241S,aaaggcatcaacggcGCTatgaattgccatacg,aaaggcatcaacggcGCTatgaattgccatacg,25nm,standard\r\n",
      "T2Y+T52Q+D93N+Q241S,ttcatgcattgccggATAacg,ttcatgcattgccggATAacg,25nm,standard\r\n",
      "T2Y+T52Q+D93N+Q241S,ctgtttatacggatgCTGaatgttcagaccatt,ctgtttatacggatgCTGaatgttcagaccatt,25nm,standard\r\n",
      "T2Y+T52Q+D93N+Q241S,accaaaaccgctcacGTTggtattatgacctgt,accaaaaccgctcacGTTggtattatgacctgt,25nm,standard\r\n",
      "T2Y+T52Q+D93N+Q241S,aaaggcatcaacggcGCTatgaattgccatacg,aaaggcatcaacggcGCTatgaattgccatacg,25nm,standard\r\n",
      "T2Y+T52Q+N77G+D93N+Q241S,ttcatgcattgccggATAacg,ttcatgcattgccggATAacg,25nm,standard\r\n",
      "T2Y+T52Q+N77G+D93N+Q241S,ctgtttatacggatgCTGaatgttcagaccatt,ctgtttatacggatgCTGaatgttcagaccatt,25nm,standard\r\n",
      "T2Y+T52Q+N77G+D93N+Q241S,atcaataacaacggtGCCaactgcacccagctg,atcaataacaacggtGCCaactgcacccagctg,25nm,standard\r\n",
      "T2Y+T52Q+N77G+D93N+Q241S,accaaaaccgctcacGTTggtattatgacctgt,accaaaaccgctcacGTTggtattatgacctgt,25nm,standard\r\n",
      "T2Y+T52Q+N77G+D93N+Q241S,aaaggcatcaacggcGCTatgaattgccatacg,aaaggcatcaacggcGCTatgaattgccatacg,25nm,standard\r\n",
      "T2Y+T52Q+N77A+D93N+Q241S,ttcatgcattgccggATAacg,ttcatgcattgccggATAacg,25nm,standard\r\n",
      "T2Y+T52Q+N77A+D93N+Q241S,ctgtttatacggatgCTGaatgttcagaccatt,ctgtttatacggatgCTGaatgttcagaccatt,25nm,standard\r\n",
      "T2Y+T52Q+N77A+D93N+Q241S,atcaataacaacggtCGCaactgcacccagctg,atcaataacaacggtCGCaactgcacccagctg,25nm,standard\r\n",
      "T2Y+T52Q+N77A+D93N+Q241S,accaaaaccgctcacGTTggtattatgacctgt,accaaaaccgctcacGTTggtattatgacctgt,25nm,standard\r\n",
      "T2Y+T52Q+N77A+D93N+Q241S,aaaggcatcaacggcGCTatgaattgccatacg,aaaggcatcaacggcGCTatgaattgccatacg,25nm,standard\r\n",
      "T2Y+K56S+D93W+G120E+Q241S,ttcatgcattgccggATAacg,ttcatgcattgccggATAacg,25nm,standard\r\n",
      "T2Y+K56S+D93W+G120E+Q241S,cggcagaactgcctgGCTatacggatgggtaat,cggcagaactgcctgGCTatacggatgggtaat,25nm,standard\r\n",
      "T2Y+K56S+D93W+G120E+Q241S,accaaaaccgctcacCCAggtattatgacctgt,accaaaaccgctcacCCAggtattatgacctgt,25nm,standard\r\n",
      "T2Y+K56S+D93W+G120E+Q241S,aactgcattaccaacTTCaccggcaccaacctg,aactgcattaccaacTTCaccggcaccaacctg,25nm,standard\r\n",
      "T2Y+K56S+D93W+G120E+Q241S,aaaggcatcaacggcGCTatgaattgccatacg,aaaggcatcaacggcGCTatgaattgccatacg,25nm,standard\r\n",
      "T2Y+D93W+G120D+Q241S,ttcatgcattgccggATAacg,ttcatgcattgccggATAacg,25nm,standard\r\n",
      "T2Y+D93W+G120D+Q241S,accaaaaccgctcacCCAggtattatgacctgt,accaaaaccgctcacCCAggtattatgacctgt,25nm,standard\r\n",
      "T2Y+D93W+G120D+Q241S,aactgcattaccaacATCaccggcaccaacctg,aactgcattaccaacATCaccggcaccaacctg,25nm,standard\r\n",
      "T2Y+D93W+G120D+Q241S,aaaggcatcaacggcGCTatgaattgccatacg,aaaggcatcaacggcGCTatgaattgccatacg,25nm,standard\r\n",
      "T2Y+D93W+Q241S,ttcatgcattgccggATAacg,ttcatgcattgccggATAacg,25nm,standard\r\n",
      "T2Y+D93W+Q241S,accaaaaccgctcacCCAggtattatgacctgt,accaaaaccgctcacCCAggtattatgacctgt,25nm,standard\r\n",
      "T2Y+D93W+Q241S,aaaggcatcaacggcGCTatgaattgccatacg,aaaggcatcaacggcGCTatgaattgccatacg,25nm,standard\r\n",
      "L8F+T18Y+D109W+Q257S,ttcatgcattgccggATAacggctcagatccaga,ttcatgcattgccggATAacggctcagatccaga,25nm,standard\r\n",
      "L8F+T18Y+D109W+Q257S,ccctgaccaatAAAacccagcagaatgctatcgtt,ccctgaccaatAAAacccagcagaatgctatcgtt,25nm,standard\r\n",
      "L8F+T18Y+D109W+Q257S,accaaaaccgctcacCCAggtattatgacctgt,accaaaaccgctcacCCAggtattatgacctgt,25nm,standard\r\n",
      "L8F+T18Y+D109W+Q257S,aaaggcatcaacggcGCTatgaattgccatacg,aaaggcatcaacggcGCTatgaattgccatacg,25nm,standard\r\n",
      "L8Y+T18Y+D109W+Q257S,ttcatgcattgccggATAacggctcagatccaga,ttcatgcattgccggATAacggctcagatccaga,25nm,standard\r\n",
      "L8Y+T18Y+D109W+Q257S,ccctgaccaatATAacccagcagaatgctatcgtt,ccctgaccaatATAacccagcagaatgctatcgtt,25nm,standard\r\n",
      "L8Y+T18Y+D109W+Q257S,accaaaaccgctcacCCAggtattatgacctgt,accaaaaccgctcacCCAggtattatgacctgt,25nm,standard\r\n",
      "L8Y+T18Y+D109W+Q257S,aaaggcatcaacggcGCTatgaattgccatacg,aaaggcatcaacggcGCTatgaattgccatacg,25nm,standard\r\n",
      "T2Y+D93W+Q241S,ttcatgcattgccggATAacg,ttcatgcattgccggATAacg,25nm,standard\r\n",
      "T2Y+D93W+Q241S,accaaaaccgctcacCCAggtattatgacctgt,accaaaaccgctcacCCAggtattatgacctgt,25nm,standard\r\n",
      "T2Y+D93W+Q241S,aaaggcatcaacggcGCTatgaattgccatacg,aaaggcatcaacggcGCTatgaattgccatacg,25nm,standard\r\n",
      "T2Y+D93H+Q241S,ttcatgcattgccggATAacg,ttcatgcattgccggATAacg,25nm,standard\r\n",
      "T2Y+D93H+Q241S,accaaaaccgctcacATGggtattatgacctgt,accaaaaccgctcacATGggtattatgacctgt,25nm,standard\r\n",
      "T2Y+D93H+Q241S,aaaggcatcaacggcGCTatgaattgccatacg,aaaggcatcaacggcGCTatgaattgccatacg,25nm,standard\r\n",
      "T2Y+Q241S,ttcatgcattgccggATAacg,ttcatgcattgccggATAacg,25nm,standard\r\n",
      "T2Y+Q241S,aaaggcatcaacggcGCTatgaattgccatacg,aaaggcatcaacggcGCTatgaattgccatacg,25nm,standard\r\n",
      "T2Y+D93H+A124Q+Q241S,ttcatgcattgccggATAacg,ttcatgcattgccggATAacg,25nm,standard\r\n",
      "T2Y+D93H+A124Q+Q241S,accaaaaccgctcacATGggtattatgacctgt,accaaaaccgctcacATGggtattatgacctgt,25nm,standard\r\n",
      "T2Y+D93H+A124Q+Q241S,cagtgcataggcaacCTGattaccaacaccacc,cagtgcataggcaacCTGattaccaacaccacc,25nm,standard\r\n",
      "T2Y+D93H+A124Q+Q241S,aaaggcatcaacggcGCTatgaattgccatacg,aaaggcatcaacggcGCTatgaattgccatacg,25nm,standard\r\n",
      "T2Y+D93H+V121N+A124Q+Q241S,ttcatgcattgccggATAacg,ttcatgcattgccggATAacg,25nm,standard\r\n",
      "T2Y+D93H+V121N+A124Q+Q241S,accaaaaccgctcacATGggtattatgacctgt,accaaaaccgctcacATGggtattatgacctgt,25nm,standard\r\n",
      "T2Y+D93H+V121N+A124Q+Q241S,cagtgcataggcaacCTGattaccGTTaccaccggcaccaac,cagtgcataggcaacCTGattaccGTTaccaccggcaccaac,25nm,standard\r\n",
      "T2Y+D93H+V121N+A124Q+Q241S,aaaggcatcaacggcGCTatgaattgccatacg,aaaggcatcaacggcGCTatgaattgccatacg,25nm,standard\r\n",
      "T2Y+T78R+Q241S,ttcatgcattgccggATAacg,ttcatgcattgccggATAacg,25nm,standard\r\n",
      "T2Y+T78R+Q241S,tgcatcaataacaacACGattaactgcacccag,tgcatcaataacaacACGattaactgcacccag,25nm,standard\r\n",
      "T2Y+T78R+Q241S,aaaggcatcaacggcGCTatgaattgccatacg,aaaggcatcaacggcGCTatgaattgccatacg,25nm,standard\r\n",
      "T2Y+N50A+T78R+Q241S,ttcatgcattgccggATAacg,ttcatgcattgccggATAacg,25nm,standard\r\n",
      "T2Y+N50A+T78R+Q241S,atacggatgggtaatCGCcagaccattaaaacc,atacggatgggtaatCGCcagaccattaaaacc,25nm,standard\r\n",
      "T2Y+N50A+T78R+Q241S,tgcatcaataacaacACGattaactgcacccag,tgcatcaataacaacACGattaactgcacccag,25nm,standard\r\n",
      "T2Y+N50A+T78R+Q241S,aaaggcatcaacggcGCTatgaattgccatacg,aaaggcatcaacggcGCTatgaattgccatacg,25nm,standard\r\n",
      "T2Y+N77A+D93N+Q241S,ttcatgcattgccggATAacg,ttcatgcattgccggATAacg,25nm,standard\r\n",
      "T2Y+N77A+D93N+Q241S,atcaataacaacggtCGCaactgcacccagctg,atcaataacaacggtCGCaactgcacccagctg,25nm,standard\r\n",
      "T2Y+N77A+D93N+Q241S,accaaaaccgctcacGTTggtattatgacctgt,accaaaaccgctcacGTTggtattatgacctgt,25nm,standard\r\n",
      "T2Y+N77A+D93N+Q241S,aaaggcatcaacggcGCTatgaattgccatacg,aaaggcatcaacggcGCTatgaattgccatacg,25nm,standard\r\n",
      "T2Y+N77A+D93H+Q241S,ttcatgcattgccggATAacg,ttcatgcattgccggATAacg,25nm,standard\r\n",
      "T2Y+N77A+D93H+Q241S,atcaataacaacggtCGCaactgcacccagctg,atcaataacaacggtCGCaactgcacccagctg,25nm,standard\r\n",
      "T2Y+N77A+D93H+Q241S,accaaaaccgctcacATGggtattatgacctgt,accaaaaccgctcacATGggtattatgacctgt,25nm,standard\r\n",
      "T2Y+N77A+D93H+Q241S,aaaggcatcaacggcGCTatgaattgccatacg,aaaggcatcaacggcGCTatgaattgccatacg,25nm,standard\r\n",
      "T2Y+T52Q+K56M+N77A+D93N+Q241S,ttcatgcattgccggATAacg,ttcatgcattgccggATAacg,25nm,standard\r\n",
      "T2Y+T52Q+K56M+N77A+D93N+Q241S,cggcagaactgcctgCATatacggatgCTGaatgttcagaccatt,cggcagaactgcctgCATatacggatgCTGaatgttcagaccatt,25nm,standard\r\n",
      "T2Y+T52Q+K56M+N77A+D93N+Q241S,atcaataacaacggtCGCaactgcacccagctg,atcaataacaacggtCGCaactgcacccagctg,25nm,standard\r\n",
      "T2Y+T52Q+K56M+N77A+D93N+Q241S,accaaaaccgctcacGTTggtattatgacctgt,accaaaaccgctcacGTTggtattatgacctgt,25nm,standard\r\n",
      "T2Y+T52Q+K56M+N77A+D93N+Q241S,aaaggcatcaacggcGCTatgaattgccatacg,aaaggcatcaacggcGCTatgaattgccatacg,25nm,standard\r\n",
      "T2Y+T52Q+K56M+N77A+D93N+Q241S,ttcatgcattgccggATAacg,ttcatgcattgccggATAacg,25nm,standard\r\n",
      "T2Y+T52Q+K56M+N77A+D93N+Q241S,cggcagaactgcctgCATatacggatgCTGaatgttcagaccatt,cggcagaactgcctgCATatacggatgCTGaatgttcagaccatt,25nm,standard\r\n",
      "T2Y+T52Q+K56M+N77A+D93N+Q241S,atcaataacaacggtCGCaactgcacccagctg,atcaataacaacggtCGCaactgcacccagctg,25nm,standard\r\n",
      "T2Y+T52Q+K56M+N77A+D93N+Q241S,accaaaaccgctcacGTTggtattatgacctgt,accaaaaccgctcacGTTggtattatgacctgt,25nm,standard\r\n",
      "T2Y+T52Q+K56M+N77A+D93N+Q241S,aaaggcatcaacggcGCTatgaattgccatacg,aaaggcatcaacggcGCTatgaattgccatacg,25nm,standard\r\n",
      "T2Y+T52Q+K56M+D93N+Q241S,ttcatgcattgccggATAacg,ttcatgcattgccggATAacg,25nm,standard\r\n",
      "T2Y+T52Q+K56M+D93N+Q241S,cggcagaactgcctgCATatacggatgCTGaatgttcagaccatt,cggcagaactgcctgCATatacggatgCTGaatgttcagaccatt,25nm,standard\r\n",
      "T2Y+T52Q+K56M+D93N+Q241S,accaaaaccgctcacGTTggtattatgacctgt,accaaaaccgctcacGTTggtattatgacctgt,25nm,standard\r\n",
      "T2Y+T52Q+K56M+D93N+Q241S,aaaggcatcaacggcGCTatgaattgccatacg,aaaggcatcaacggcGCTatgaattgccatacg,25nm,standard\r\n"
     ]
    }
   ],
   "source": [
    "!cat 3jyo_order.csv"
   ]
  },
  {
   "cell_type": "code",
   "execution_count": null,
   "metadata": {
    "collapsed": true
   },
   "outputs": [],
   "source": []
  }
 ],
 "metadata": {
  "kernelspec": {
   "display_name": "Python 2",
   "language": "python",
   "name": "python2"
  },
  "language_info": {
   "codemirror_mode": {
    "name": "ipython",
    "version": 2
   },
   "file_extension": ".py",
   "mimetype": "text/x-python",
   "name": "python",
   "nbconvert_exporter": "python",
   "pygments_lexer": "ipython2",
   "version": "2.7.10"
  }
 },
 "nbformat": 4,
 "nbformat_minor": 0
}
