{
 "cells": [
  {
   "cell_type": "code",
   "execution_count": 74,
   "metadata": {
    "collapsed": false
   },
   "outputs": [],
   "source": [
    "# 3jyo designs ordering notebook\n",
    "\n",
    "import screed\n",
    "from re import sub \n",
    "from Bio.SeqUtils import IUPACData\n",
    "from glob import glob \n",
    "\n",
    "ecoli = { 'G':'GGC', 'A':'GCG', 'V':'GTG', 'F':'TTT', 'E':'GAA', 'D':'GAT', 'N':'AAC', \n",
    "          'H':'CAT', 'P':'CCG', 'Q':'CAG', 'W':'TGG', 'Y':'TAT', 'I':'ATT', 'M':'ATG', \n",
    "          'C':'TGC', 'K':'AAA', 'L':'CTG', 'R':'CGT', 'T':'ACC', 'S':'AGC' }\n",
    "\n",
    "def reverse_complement( seq ):\n",
    "    complement = [ dict( zip( 'actgACTG', 'tgacTGAC' ) )[ i ] for i in seq ]\n",
    "    return ''.join( complement )[::-1]\n",
    "\n",
    "def pdb_to_fasta( pdb ):\n",
    "    with open( pdb ) as fn:\n",
    "        cas = [ IUPACData.protein_letters_3to1[ line.split()[3].title() ] for line in fn.readlines() if 'CA' in line and 'ATOM' in line ]\n",
    "        return '>{}\\n{}\\n'.format( pdb, ''.join( cas ) ) "
   ]
  },
  {
   "cell_type": "code",
   "execution_count": 75,
   "metadata": {
    "collapsed": true
   },
   "outputs": [],
   "source": [
    "with open( 'queries.fa', 'w' ) as fn:    \n",
    "    for i in glob( 'des*pdb' ):\n",
    "        fn.write( pdb_to_fasta( i ) )"
   ]
  },
  {
   "cell_type": "code",
   "execution_count": 76,
   "metadata": {
    "collapsed": false,
    "scrolled": true
   },
   "outputs": [],
   "source": [
    "!tblastn -subject 3jyo.fasta -query queries.fa -soft_masking true -outfmt \"6 sstart send sseq qseq\" > blast_out.tsv"
   ]
  },
  {
   "cell_type": "code",
   "execution_count": 77,
   "metadata": {
    "collapsed": false
   },
   "outputs": [],
   "source": [
    "with open( 'blast_out.tsv' ) as fn:\n",
    "    outs = fn.readlines()\n",
    "    \n",
    "mutants = [] \n",
    "for blast_out in set( outs ):\n",
    "    #parse blast output \n",
    "    sstart, send, sseq, qseq = blast_out.split( '\\t' )\n",
    "    \n",
    "    # diff \n",
    "    zipped = enumerate( zip( sseq, qseq ) )\n",
    "    diff = [ ( native, pos, new ) for pos, ( native, new ) in zipped if native != new ]\n",
    "\n",
    "    # make mutations \n",
    "    wt = [r for r in screed.open( '3jyo.fasta' )][0]\n",
    "    t = wt.sequence[ int(sstart) - 1 : int(send) ]\n",
    "    codons = [ t[i:i+3] for i in range( 0, len(t), 3 ) ] \n",
    "    label = [ ]\n",
    "    params = { } \n",
    "    \n",
    "    for d in diff:\n",
    "        codons[ d[1] ] = ecoli[ d[2] ]\n",
    "        label.append( '{}{}{}'.format( d[0], d[1] + 1, d[2] ) )\n",
    "        \n",
    "    #params['diff'] = diff \n",
    "    params['sequence'] = ''.join( codons )\n",
    "    params['label'] = '+'.join( label ) \n",
    "    \n",
    "    cut_up = sub( r'([atcg]{15})[atcg]{0,}([atcg]{15})', r'\\1,\\2', params['sequence'] )\n",
    "    oligos =  [ reverse_complement( oligo ) for oligo in cut_up.split( ',' )[1:-1] ]\n",
    "    params['oligos'] = oligos\n",
    "    \n",
    "    mutants.append( params ) "
   ]
  },
  {
   "cell_type": "code",
   "execution_count": 78,
   "metadata": {
    "collapsed": false
   },
   "outputs": [],
   "source": [
    "with open( '3jyo_order.csv', 'w' ) as ts_csv:\n",
    "    ts_csv.write( 'mutant_label,oligo_label,sequence,scale,purification\\n' )\n",
    "    for mutant in mutants:\n",
    "        for oligo in mutant['oligos']:\n",
    "            if len( oligo ) < 60:\n",
    "                ts_csv.write( '{0},{1},{1},25nm,standard\\n'.format( mutant['label'], oligo ) )\n",
    "            else:\n",
    "                raise Exception()                \n",
    "                #halfway = len( oligo ) // 2 \n",
    "                #oligo1, oligo2 = oligo[:halfway], oligo[halfway:]\n",
    "                #if len( oligo1 ) < 60 and len( oligo2 ) < 60: \n",
    "                #    ts_csv.write( '{0},{1},{1},25nm,standard\\n'.format( mutant['label'], oligo1 ) )\n",
    "                #    ts_csv.write( '{0},{1},{1},25nm,standard\\n'.format( mutant['label'], oligo2 ) )\n",
    "                #else:\n",
    "                #    raise Exception( 'Split this oligo but it\\'s still too long' )"
   ]
  },
  {
   "cell_type": "code",
   "execution_count": 79,
   "metadata": {
    "collapsed": false,
    "scrolled": false
   },
   "outputs": [
    {
     "name": "stdout",
     "output_type": "stream",
     "text": [
      "mutant_label,oligo_label,sequence,scale,purification\r\n",
      "T18Y+T68Q+K72M+D109N+Q257S,ttcatgcattgccggATAacggctcagatccag,ttcatgcattgccggATAacggctcagatccag,25nm,standard\r\n",
      "T18Y+T68Q+K72M+D109N+Q257S,cggcagaactgcctgCATatacggatgCTGaatgttcagaccatt,cggcagaactgcctgCATatacggatgCTGaatgttcagaccatt,25nm,standard\r\n",
      "T18Y+T68Q+K72M+D109N+Q257S,accaaaaccgctcacGTTggtattatgacctgt,accaaaaccgctcacGTTggtattatgacctgt,25nm,standard\r\n",
      "T18Y+T68Q+K72M+D109N+Q257S,aaaggcatcaacggcGCTatgaattgccatacg,aaaggcatcaacggcGCTatgaattgccatacg,25nm,standard\r\n",
      "T18Y+D109H+Q257S,ttcatgcattgccggATAacggctcagatccag,ttcatgcattgccggATAacggctcagatccag,25nm,standard\r\n",
      "T18Y+D109H+Q257S,accaaaaccgctcacATGggtattatgacctgt,accaaaaccgctcacATGggtattatgacctgt,25nm,standard\r\n",
      "T18Y+D109H+Q257S,aaaggcatcaacggcGCTatgaattgccatacg,aaaggcatcaacggcGCTatgaattgccatacg,25nm,standard\r\n",
      "T18Y+N93A+D109H+Q257S,ttcatgcattgccggATAacggctcagatccag,ttcatgcattgccggATAacggctcagatccag,25nm,standard\r\n",
      "T18Y+N93A+D109H+Q257S,atcaataacaacggtCGCaactgcacccagctg,atcaataacaacggtCGCaactgcacccagctg,25nm,standard\r\n",
      "T18Y+N93A+D109H+Q257S,accaaaaccgctcacATGggtattatgacctgt,accaaaaccgctcacATGggtattatgacctgt,25nm,standard\r\n",
      "T18Y+N93A+D109H+Q257S,aaaggcatcaacggcGCTatgaattgccatacg,aaaggcatcaacggcGCTatgaattgccatacg,25nm,standard\r\n",
      "T18Y+Q257S,ttcatgcattgccggATAacggctcagatccag,ttcatgcattgccggATAacggctcagatccag,25nm,standard\r\n",
      "T18Y+Q257S,aaaggcatcaacggcGCTatgaattgccatacg,aaaggcatcaacggcGCTatgaattgccatacg,25nm,standard\r\n",
      "T18Y+T94R+Q257S,ttcatgcattgccggATAacggctcagatccag,ttcatgcattgccggATAacggctcagatccag,25nm,standard\r\n",
      "T18Y+T94R+Q257S,tgcatcaataacaacACGattaactgcacccag,tgcatcaataacaacACGattaactgcacccag,25nm,standard\r\n",
      "T18Y+T94R+Q257S,aaaggcatcaacggcGCTatgaattgccatacg,aaaggcatcaacggcGCTatgaattgccatacg,25nm,standard\r\n",
      "T18Y+D109H+V137N+A140Q+Q257S,ttcatgcattgccggATAacggctcagatccag,ttcatgcattgccggATAacggctcagatccag,25nm,standard\r\n",
      "T18Y+D109H+V137N+A140Q+Q257S,accaaaaccgctcacATGggtattatgacctgt,accaaaaccgctcacATGggtattatgacctgt,25nm,standard\r\n",
      "T18Y+D109H+V137N+A140Q+Q257S,cagtgcataggcaacCTGattaccGTTaccaccggcaccaac,cagtgcataggcaacCTGattaccGTTaccaccggcaccaac,25nm,standard\r\n",
      "T18Y+D109H+V137N+A140Q+Q257S,aaaggcatcaacggcGCTatgaattgccatacg,aaaggcatcaacggcGCTatgaattgccatacg,25nm,standard\r\n",
      "T18Y+N66A+T94R+Q257S,ttcatgcattgccggATAacggctcagatccag,ttcatgcattgccggATAacggctcagatccag,25nm,standard\r\n",
      "T18Y+N66A+T94R+Q257S,atacggatgggtaatCGCcagaccattaaaacc,atacggatgggtaatCGCcagaccattaaaacc,25nm,standard\r\n",
      "T18Y+N66A+T94R+Q257S,tgcatcaataacaacACGattaactgcacccag,tgcatcaataacaacACGattaactgcacccag,25nm,standard\r\n",
      "T18Y+N66A+T94R+Q257S,aaaggcatcaacggcGCTatgaattgccatacg,aaaggcatcaacggcGCTatgaattgccatacg,25nm,standard\r\n",
      "T18Y+T68Q+D109N+Q257S,ttcatgcattgccggATAacggctcagatccag,ttcatgcattgccggATAacggctcagatccag,25nm,standard\r\n",
      "T18Y+T68Q+D109N+Q257S,ctgtttatacggatgCTGaatgttcagaccatt,ctgtttatacggatgCTGaatgttcagaccatt,25nm,standard\r\n",
      "T18Y+T68Q+D109N+Q257S,accaaaaccgctcacGTTggtattatgacctgt,accaaaaccgctcacGTTggtattatgacctgt,25nm,standard\r\n",
      "T18Y+T68Q+D109N+Q257S,aaaggcatcaacggcGCTatgaattgccatacg,aaaggcatcaacggcGCTatgaattgccatacg,25nm,standard\r\n",
      "T18Y+T68Q+N93A+D109N+Q257S,ttcatgcattgccggATAacggctcagatccag,ttcatgcattgccggATAacggctcagatccag,25nm,standard\r\n",
      "T18Y+T68Q+N93A+D109N+Q257S,ctgtttatacggatgCTGaatgttcagaccatt,ctgtttatacggatgCTGaatgttcagaccatt,25nm,standard\r\n",
      "T18Y+T68Q+N93A+D109N+Q257S,atcaataacaacggtCGCaactgcacccagctg,atcaataacaacggtCGCaactgcacccagctg,25nm,standard\r\n",
      "T18Y+T68Q+N93A+D109N+Q257S,accaaaaccgctcacGTTggtattatgacctgt,accaaaaccgctcacGTTggtattatgacctgt,25nm,standard\r\n",
      "T18Y+T68Q+N93A+D109N+Q257S,aaaggcatcaacggcGCTatgaattgccatacg,aaaggcatcaacggcGCTatgaattgccatacg,25nm,standard\r\n",
      "T18Y+D109H+A140Q+Q257S,ttcatgcattgccggATAacggctcagatccag,ttcatgcattgccggATAacggctcagatccag,25nm,standard\r\n",
      "T18Y+D109H+A140Q+Q257S,accaaaaccgctcacATGggtattatgacctgt,accaaaaccgctcacATGggtattatgacctgt,25nm,standard\r\n",
      "T18Y+D109H+A140Q+Q257S,cagtgcataggcaacCTGattaccaacaccacc,cagtgcataggcaacCTGattaccaacaccacc,25nm,standard\r\n",
      "T18Y+D109H+A140Q+Q257S,aaaggcatcaacggcGCTatgaattgccatacg,aaaggcatcaacggcGCTatgaattgccatacg,25nm,standard\r\n",
      "T18Y+N93G+Q257S,ttcatgcattgccggATAacggctcagatccag,ttcatgcattgccggATAacggctcagatccag,25nm,standard\r\n",
      "T18Y+N93G+Q257S,atcaataacaacggtGCCaactgcacccagctg,atcaataacaacggtGCCaactgcacccagctg,25nm,standard\r\n",
      "T18Y+N93G+Q257S,aaaggcatcaacggcGCTatgaattgccatacg,aaaggcatcaacggcGCTatgaattgccatacg,25nm,standard\r\n",
      "T18Y+T68Q+K72M+N93A+D109N+Q257S,ttcatgcattgccggATAacggctcagatccag,ttcatgcattgccggATAacggctcagatccag,25nm,standard\r\n",
      "T18Y+T68Q+K72M+N93A+D109N+Q257S,cggcagaactgcctgCATatacggatgCTGaatgttcagaccatt,cggcagaactgcctgCATatacggatgCTGaatgttcagaccatt,25nm,standard\r\n",
      "T18Y+T68Q+K72M+N93A+D109N+Q257S,atcaataacaacggtCGCaactgcacccagctg,atcaataacaacggtCGCaactgcacccagctg,25nm,standard\r\n",
      "T18Y+T68Q+K72M+N93A+D109N+Q257S,accaaaaccgctcacGTTggtattatgacctgt,accaaaaccgctcacGTTggtattatgacctgt,25nm,standard\r\n",
      "T18Y+T68Q+K72M+N93A+D109N+Q257S,aaaggcatcaacggcGCTatgaattgccatacg,aaaggcatcaacggcGCTatgaattgccatacg,25nm,standard\r\n",
      "T18Y+N93A+D109N+Q257S,ttcatgcattgccggATAacggctcagatccag,ttcatgcattgccggATAacggctcagatccag,25nm,standard\r\n",
      "T18Y+N93A+D109N+Q257S,atcaataacaacggtCGCaactgcacccagctg,atcaataacaacggtCGCaactgcacccagctg,25nm,standard\r\n",
      "T18Y+N93A+D109N+Q257S,accaaaaccgctcacGTTggtattatgacctgt,accaaaaccgctcacGTTggtattatgacctgt,25nm,standard\r\n",
      "T18Y+N93A+D109N+Q257S,aaaggcatcaacggcGCTatgaattgccatacg,aaaggcatcaacggcGCTatgaattgccatacg,25nm,standard\r\n",
      "T18Y+D109W+Q257S,ttcatgcattgccggATAacggctcagatccag,ttcatgcattgccggATAacggctcagatccag,25nm,standard\r\n",
      "T18Y+D109W+Q257S,accaaaaccgctcacCCAggtattatgacctgt,accaaaaccgctcacCCAggtattatgacctgt,25nm,standard\r\n",
      "T18Y+D109W+Q257S,aaaggcatcaacggcGCTatgaattgccatacg,aaaggcatcaacggcGCTatgaattgccatacg,25nm,standard\r\n",
      "T18Y+T68Q+N93G+D109N+Q257S,ttcatgcattgccggATAacggctcagatccag,ttcatgcattgccggATAacggctcagatccag,25nm,standard\r\n",
      "T18Y+T68Q+N93G+D109N+Q257S,ctgtttatacggatgCTGaatgttcagaccatt,ctgtttatacggatgCTGaatgttcagaccatt,25nm,standard\r\n",
      "T18Y+T68Q+N93G+D109N+Q257S,atcaataacaacggtGCCaactgcacccagctg,atcaataacaacggtGCCaactgcacccagctg,25nm,standard\r\n",
      "T18Y+T68Q+N93G+D109N+Q257S,accaaaaccgctcacGTTggtattatgacctgt,accaaaaccgctcacGTTggtattatgacctgt,25nm,standard\r\n",
      "T18Y+T68Q+N93G+D109N+Q257S,aaaggcatcaacggcGCTatgaattgccatacg,aaaggcatcaacggcGCTatgaattgccatacg,25nm,standard\r\n",
      "T18Y+K72S+D109W+G136E+Q257S,ttcatgcattgccggATAacggctcagatccag,ttcatgcattgccggATAacggctcagatccag,25nm,standard\r\n",
      "T18Y+K72S+D109W+G136E+Q257S,cggcagaactgcctgGCTatacggatgggtaat,cggcagaactgcctgGCTatacggatgggtaat,25nm,standard\r\n",
      "T18Y+K72S+D109W+G136E+Q257S,accaaaaccgctcacCCAggtattatgacctgt,accaaaaccgctcacCCAggtattatgacctgt,25nm,standard\r\n",
      "T18Y+K72S+D109W+G136E+Q257S,aactgcattaccaacTTCaccggcaccaacctg,aactgcattaccaacTTCaccggcaccaacctg,25nm,standard\r\n",
      "T18Y+K72S+D109W+G136E+Q257S,aaaggcatcaacggcGCTatgaattgccatacg,aaaggcatcaacggcGCTatgaattgccatacg,25nm,standard\r\n",
      "T18Y+D109W+G136D+Q257S,ttcatgcattgccggATAacggctcagatccag,ttcatgcattgccggATAacggctcagatccag,25nm,standard\r\n",
      "T18Y+D109W+G136D+Q257S,accaaaaccgctcacCCAggtattatgacctgt,accaaaaccgctcacCCAggtattatgacctgt,25nm,standard\r\n",
      "T18Y+D109W+G136D+Q257S,aactgcattaccaacATCaccggcaccaacctg,aactgcattaccaacATCaccggcaccaacctg,25nm,standard\r\n",
      "T18Y+D109W+G136D+Q257S,aaaggcatcaacggcGCTatgaattgccatacg,aaaggcatcaacggcGCTatgaattgccatacg,25nm,standard\r\n",
      "L8Y+T18Y+D109W+Q257S,accaaaaccgctcacCCAggtattatgacctgt,accaaaaccgctcacCCAggtattatgacctgt,25nm,standard\r\n",
      "L8Y+T18Y+D109W+Q257S,aaaggcatcaacggcGCTatgaattgccatacg,aaaggcatcaacggcGCTatgaattgccatacg,25nm,standard\r\n",
      "L8F+T18Y+D109W+Q257S,accaaaaccgctcacCCAggtattatgacctgt,accaaaaccgctcacCCAggtattatgacctgt,25nm,standard\r\n",
      "L8F+T18Y+D109W+Q257S,aaaggcatcaacggcGCTatgaattgccatacg,aaaggcatcaacggcGCTatgaattgccatacg,25nm,standard\r\n"
     ]
    }
   ],
   "source": [
    "!cat 3jyo_order.csv"
   ]
  },
  {
   "cell_type": "code",
   "execution_count": 89,
   "metadata": {
    "collapsed": false
   },
   "outputs": [
    {
     "name": "stdout",
     "output_type": "stream",
     "text": [
      "set(['T18Y+D109H+A140Q+Q257S', 'T18Y+N93G+Q257S', 'T18Y+T68Q+K72M+N93A+D109N+Q257S', 'T18Y+K72S+D109W+G136E+Q257S', 'T18Y+D109H+V137N+A140Q+Q257S', 'T18Y+T68Q+D109N+Q257S', 'T18Y+T94R+Q257S', 'L8Y+T18Y+D109W+Q257S', 'T18Y+T68Q+N93G+D109N+Q257S', 'T18Y+D109W+G136D+Q257S', 'L8F+T18Y+D109W+Q257S', 'T18Y+T68Q+N93A+D109N+Q257S', 'T18Y+N93A+D109H+Q257S', 'T18Y+Q257S', 'T18Y+D109W+Q257S', 'T18Y+N93A+D109N+Q257S', 'T18Y+D109H+Q257S', 'T18Y+T68Q+K72M+D109N+Q257S', 'T18Y+N66A+T94R+Q257S'])\n",
      "['T18Y+T68Q+K72M+D109N+Q257S', 'T18Y+D109H+Q257S', 'T18Y+N93A+D109H+Q257S', 'T18Y+Q257S', 'T18Y+T94R+Q257S', 'T18Y+D109H+V137N+A140Q+Q257S', 'T18Y+N66A+T94R+Q257S', 'T18Y+T68Q+D109N+Q257S', 'T18Y+T68Q+N93A+D109N+Q257S', 'T18Y+D109H+A140Q+Q257S', 'T18Y+N93G+Q257S', 'T18Y+T68Q+K72M+N93A+D109N+Q257S', 'T18Y+N93A+D109N+Q257S', 'T18Y+D109W+Q257S', 'T18Y+T68Q+N93G+D109N+Q257S', 'T18Y+K72S+D109W+G136E+Q257S', 'T18Y+D109W+G136D+Q257S', 'L8Y+T18Y+D109W+Q257S', 'L8F+T18Y+D109W+Q257S']\n"
     ]
    }
   ],
   "source": [
    "print set( [ i['label'] for i in mutants ] ) \n",
    "print [i['label'] for i in mutants ]"
   ]
  },
  {
   "cell_type": "code",
   "execution_count": null,
   "metadata": {
    "collapsed": true
   },
   "outputs": [],
   "source": []
  }
 ],
 "metadata": {
  "kernelspec": {
   "display_name": "Python 2",
   "language": "python",
   "name": "python2"
  },
  "language_info": {
   "codemirror_mode": {
    "name": "ipython",
    "version": 2
   },
   "file_extension": ".py",
   "mimetype": "text/x-python",
   "name": "python",
   "nbconvert_exporter": "python",
   "pygments_lexer": "ipython2",
   "version": "2.7.10"
  }
 },
 "nbformat": 4,
 "nbformat_minor": 0
}
